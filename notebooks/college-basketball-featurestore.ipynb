{
 "cells": [
  {
   "cell_type": "markdown",
   "metadata": {},
   "source": [
    "# College Basketball Feature Store\n",
    "\n",
    "Mock out connecting different data sources to build out a normalized view of features for analytics for college basketball\n",
    "\n",
    "** Main things **\n",
    "\n",
    "Find a way to get a normalized view of all stats related to college basketball. We’ll want to look at this for regular season AND post season. Post season is much harder since we have to predict weeks to a month out for game outcomes. The best chance is to take a list of features to summarize the current team performance for the year and approximate performance in the playoffs. Some stats (like elo) we can use as an end of season rating or take the last value. Sadly odds will not be available that far out. \n",
    "\n",
    "One additional piece will be to make an “approximate” odds calculation for each game. Each round of the playoffs will be iterated where in a closed system like elo we can include the iterated elo for each team. \n",
    "\n",
    "We need to make a simulator class to iterate through the playoff. Once that is made we can apply a random factor to the initialization of teams and see how many (if even possible) iterations it will take to perfectly predict the postseason\n",
    "\n",
    "Start small. Pick one game:\n",
    "- Get event info\n",
    "- Pull in elo rating from theedgepredictor/elo-rating\n",
    "\n",
    "Additional:\n",
    "- Torvik (trank, net rank, barthag, ratings)\n",
    "- odds (open, current)\n",
    "- team stats (season, last 3, last 5, last 10)\n",
    "- Name mapper college"
   ]
  },
  {
   "cell_type": "code",
   "execution_count": 6,
   "metadata": {},
   "outputs": [],
   "source": [
    "import time\n",
    "\n",
    "import requests\n",
    "\n",
    "\n",
    "class ESPNBaseAPI:\n",
    "    \"\"\"\n",
    "    ESPNBaseAPI class for making API requests to ESPN's sports data endpoints.\n",
    "\n",
    "    Attributes:\n",
    "        _base_url (str): The base URL for ESPN's public API.\n",
    "        _core_url (str): The base URL for ESPN's core API.\n",
    "\n",
    "    Methods:\n",
    "        api_request(url: str, retry_count: int = 0) -> dict or None:\n",
    "            Makes an API request to the specified URL.\n",
    "\n",
    "            Args:\n",
    "                url (str): The complete URL for the API request.\n",
    "                retry_count (int): The number of times to retry the request in case of failure. Default is 0.\n",
    "\n",
    "            Returns:\n",
    "                dict or None: The JSON response from the API, or None if the request was unsuccessful.\n",
    "                If the response indicates a 404 status code or an error, None is returned.\n",
    "\n",
    "            Raises:\n",
    "                Exception: Raises an exception if the request encounters an error after multiple retries.\n",
    "                This is typically used when the request limit is exceeded (error code 2502).\n",
    "    \"\"\"\n",
    "\n",
    "    def __init__(self):\n",
    "        \"\"\"\n",
    "        Initializes an instance of the ESPNBaseAPI class.\n",
    "\n",
    "        Attributes:\n",
    "            _base_url (str): The base URL for ESPN's public API.\n",
    "            _core_url (str): The base URL for ESPN's core API.\n",
    "        \"\"\"\n",
    "        self._base_url = 'https://site.api.espn.com/apis/site/v2/sports'\n",
    "        self._core_url = 'https://sports.core.api.espn.com/v2/sports'\n",
    "\n",
    "    def api_request(self, url: str, retry_count: int = 0) -> dict or None:\n",
    "        \"\"\"\n",
    "        Makes an API request to the specified URL.\n",
    "\n",
    "        Args:\n",
    "            url (str): The complete URL for the API request.\n",
    "            retry_count (int): The number of times to retry the request in case of failure. Default is 0.\n",
    "\n",
    "        Returns:\n",
    "            dict or None: The JSON response from the API, or None if the request was unsuccessful.\n",
    "            If the response indicates a 404 status code or an error, None is returned.\n",
    "\n",
    "        Raises:\n",
    "            Exception: Raises an exception if the request encounters an error after multiple retries.\n",
    "            This is typically used when the request limit is exceeded (error code 2502).\n",
    "        \"\"\"\n",
    "        try:\n",
    "            headers = {\n",
    "                'User-Agent': 'Mozilla/5.0 (Windows NT 10.0; Win64; x64) AppleWebKit/537.36 (KHTML, like Gecko) Chrome/58.0.3029.110 Safari/537.36'\n",
    "            }\n",
    "            resp = requests.get(url=url, headers=headers)\n",
    "            if resp.status_code == 404:\n",
    "                return None\n",
    "            res = resp.json()\n",
    "            if 'error' in res:\n",
    "                if res['error']['code'] == 404:  # No data\n",
    "                    return None\n",
    "            if 'code' in res:\n",
    "                if res['code'] == 2502:\n",
    "                    raise Exception('Flooded')  # Too many requests\n",
    "                if res['code'] == 400:  # Data cant be found (wrong endpoint/wrong request)\n",
    "                    return None\n",
    "            return res\n",
    "        except Exception as e:\n",
    "            if retry_count >= 3:\n",
    "                raise e\n",
    "            time.sleep(5)\n",
    "            print(f'URL error for {url}')\n",
    "            self.api_request(url, retry_count=retry_count + 1)\n"
   ]
  },
  {
   "cell_type": "code",
   "execution_count": 3,
   "metadata": {},
   "outputs": [],
   "source": [
    "import pandas as pd\n",
    "\n",
    "df = pd.read_parquet('https://github.com/theedgepredictor/elo-rating/raw/main/data/elo/basketball/mens-college-basketball/2023.parquet')\n",
    "\n",
    "simple = df.loc[df.id == 401522202].to_dict(orient='records')[0]"
   ]
  },
  {
   "cell_type": "code",
   "execution_count": 4,
   "metadata": {},
   "outputs": [
    {
     "data": {
      "text/plain": [
       "{'str_event_id': '20230404_uconn_sandiegostate',\n",
       " 'season': 2023,\n",
       " 'date': Timestamp('2023-04-04 00:00:00'),\n",
       " 'neutral_site': 1,\n",
       " 'home_team_id': 41,\n",
       " 'home_team_score': 76,\n",
       " 'away_team_id': 21,\n",
       " 'away_team_score': 59,\n",
       " 'home_elo_pre': 2332.574918858023,\n",
       " 'away_elo_pre': 2276.7945212855925,\n",
       " 'home_elo_prob': 0.5400512295532702,\n",
       " 'away_elo_prob': 0.4599487704467299,\n",
       " 'home_elo_post': 2371.4713973814605,\n",
       " 'away_elo_post': 2237.898042762155,\n",
       " 'id': 401522202,\n",
       " 'home_team_name': 'uconn',\n",
       " 'away_team_name': 'sandiegostate',\n",
       " 'is_postseason': 1,\n",
       " 'tournament_id': 22,\n",
       " 'is_finished': 1,\n",
       " 'datetime': Timestamp('2023-04-04 01:20:00+0000', tz='UTC')}"
      ]
     },
     "execution_count": 4,
     "metadata": {},
     "output_type": "execute_result"
    }
   ],
   "source": [
    "simple"
   ]
  },
  {
   "cell_type": "markdown",
   "metadata": {},
   "source": [
    "## Simple\n",
    "\n",
    "Game: 20230404_uconn_sandiegostate\n",
    "- Info: Last years final\n",
    "- Game_id: 401522202\n",
    "- Home_id: 41\n",
    "- Away_id: 21\n",
    "\n"
   ]
  },
  {
   "cell_type": "code",
   "execution_count": 51,
   "metadata": {},
   "outputs": [
    {
     "data": {
      "text/plain": [
       "dict_keys(['id', 'uid', 'location', 'name', 'abbreviation', 'displayName', 'shortDisplayName', 'color', 'alternateColor', 'isActive', 'venue', 'links', 'logo', 'conferenceId'])"
      ]
     },
     "execution_count": 51,
     "metadata": {},
     "output_type": "execute_result"
    }
   ],
   "source": [
    "sport_str = 'basketball/mens-college-basketball'\n",
    "base_api = ESPNBaseAPI()\n",
    "res = base_api.api_request(f\"{base_api._base_url}/{sport_str}/scoreboard?dates=20230403&limit=10\")\n",
    "res['events'][0]['competitions'][0]['competitors'][0]['team'].keys()"
   ]
  },
  {
   "cell_type": "markdown",
   "metadata": {},
   "source": [
    "## Access Pattern\n",
    "\n",
    "### 1. Scoreboard\n",
    "\n",
    "Get overall event info. Main thing is:\n",
    "- id\n",
    "- datetime\n",
    "- status\n",
    "- home_id\n",
    "- away_id\n",
    "\n",
    "### 2. Team Stats\n",
    "base: https://site.api.espn.com/apis/site/v2/sports/{SPORT}/seasons/2023/teams/41\n",
    "\n",
    "Get team based stats for each team\n",
    "\n",
    "\n"
   ]
  },
  {
   "cell_type": "code",
   "execution_count": 59,
   "metadata": {},
   "outputs": [
    {
     "data": {
      "text/plain": [
       "{}"
      ]
     },
     "execution_count": 59,
     "metadata": {},
     "output_type": "execute_result"
    }
   ],
   "source": [
    "res = base_api.api_request(f\"{base_api._base_url}/{sport_str}/seasons/2023/teams/41/events\")\n",
    "res"
   ]
  },
  {
   "cell_type": "code",
   "execution_count": 60,
   "metadata": {},
   "outputs": [
    {
     "data": {
      "text/plain": [
       "'https://site.api.espn.com/apis/site/v2/sports/basketball/mens-college-basketball/seasons/2023/teams/41/events'"
      ]
     },
     "execution_count": 60,
     "metadata": {},
     "output_type": "execute_result"
    }
   ],
   "source": [
    "f\"{base_api._base_url}/{sport_str}/seasons/2023/teams/41/events\""
   ]
  },
  {
   "cell_type": "code",
   "execution_count": null,
   "metadata": {},
   "outputs": [],
   "source": []
  }
 ],
 "metadata": {
  "kernelspec": {
   "display_name": ".venv",
   "language": "python",
   "name": "python3"
  },
  "language_info": {
   "codemirror_mode": {
    "name": "ipython",
    "version": 3
   },
   "file_extension": ".py",
   "mimetype": "text/x-python",
   "name": "python",
   "nbconvert_exporter": "python",
   "pygments_lexer": "ipython3",
   "version": "3.10.5"
  }
 },
 "nbformat": 4,
 "nbformat_minor": 2
}
