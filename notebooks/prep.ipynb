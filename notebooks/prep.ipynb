{
 "cells": [
  {
   "cell_type": "markdown",
   "metadata": {},
   "source": [
    "## Mean, Median, Mode"
   ]
  },
  {
   "cell_type": "code",
   "execution_count": 1,
   "metadata": {},
   "outputs": [
    {
     "name": "stdout",
     "output_type": "stream",
     "text": [
      "3.1818181818181817\n",
      "3.0\n",
      "4\n"
     ]
    }
   ],
   "source": [
    "import numpy as np\n",
    "from statistics import mode\n",
    "data = [1, 2, 2, 3, 3, 3, 4, 4, 4, 4, 5]\n",
    "\n",
    "### Mean\n",
    "mean = np.mean(data)\n",
    "print(mean)\n",
    "\n",
    "### Median\n",
    "median = np.median(data)\n",
    "print(median)\n",
    "\n",
    "### Mode\n",
    "mode_value = mode(data)\n",
    "print(mode_value)\n",
    "\n"
   ]
  },
  {
   "cell_type": "markdown",
   "metadata": {},
   "source": [
    "## Variance and Std"
   ]
  },
  {
   "cell_type": "code",
   "execution_count": 2,
   "metadata": {},
   "outputs": [
    {
     "name": "stdout",
     "output_type": "stream",
     "text": [
      "1.239669421487603\n",
      "1.113404428537808\n"
     ]
    }
   ],
   "source": [
    "import numpy as np\n",
    "variance = np.var(data)\n",
    "print(variance)\n",
    "\n",
    "import numpy as np\n",
    "std_dev = np.std(data)\n",
    "print(std_dev)"
   ]
  },
  {
   "cell_type": "markdown",
   "metadata": {},
   "source": [
    "## Range, IQR"
   ]
  },
  {
   "cell_type": "code",
   "execution_count": 3,
   "metadata": {},
   "outputs": [
    {
     "name": "stdout",
     "output_type": "stream",
     "text": [
      "4\n",
      "1.5\n",
      "[2.5 3.  4. ]\n",
      "4.0\n"
     ]
    }
   ],
   "source": [
    "import numpy as np\n",
    "\n",
    "### Range\n",
    "data_range = max(data) - min(data)\n",
    "print(data_range)\n",
    "\n",
    "### IQR\n",
    "q3, q1 = np.percentile(data, [75 ,25])\n",
    "iqr = q3 - q1\n",
    "print(iqr)\n",
    "\n",
    "\n",
    "### Quartiles\n",
    "quartiles = np.percentile(data, [25, 50, 75])\n",
    "print(quartiles)\n",
    "\n",
    "\n",
    "### Quartile Value\n",
    "percentile_value = np.percentile(data, 75)\n",
    "print(percentile_value)"
   ]
  },
  {
   "cell_type": "markdown",
   "metadata": {},
   "source": [
    "## Skewness, Kurtosis"
   ]
  },
  {
   "cell_type": "code",
   "execution_count": 4,
   "metadata": {},
   "outputs": [
    {
     "name": "stdout",
     "output_type": "stream",
     "text": [
      "-0.36252448193191006\n",
      "-0.6759999999999993\n"
     ]
    }
   ],
   "source": [
    "from scipy.stats import skew, kurtosis\n",
    "skewness = skew(data)\n",
    "print(skewness)\n",
    "\n",
    "kurtosis_value = kurtosis(data)\n",
    "print(kurtosis_value)"
   ]
  },
  {
   "cell_type": "markdown",
   "metadata": {},
   "source": [
    "## Correlation, Covariance"
   ]
  },
  {
   "cell_type": "code",
   "execution_count": 5,
   "metadata": {},
   "outputs": [
    {
     "name": "stdout",
     "output_type": "stream",
     "text": [
      "-0.9999999999999999\n",
      "-2.5\n"
     ]
    }
   ],
   "source": [
    "import numpy as np\n",
    "data1 = [1, 2, 3, 4, 5]\n",
    "data2 = [5, 4, 3, 2, 1]\n",
    "## Pearson Correlation Coef\n",
    "corr_coef = np.corrcoef(data1, data2)[0, 1]\n",
    "print(corr_coef)\n",
    "\n",
    "## Covariance \n",
    "covariance = np.cov(data1, data2)[0, 1]\n",
    "print(covariance)"
   ]
  },
  {
   "cell_type": "code",
   "execution_count": 6,
   "metadata": {},
   "outputs": [
    {
     "name": "stdout",
     "output_type": "stream",
     "text": [
      "43900.6\n",
      "44627.5\n",
      "64630\n",
      "30466.9\n",
      "-15814.6 103615.8\n"
     ]
    }
   ],
   "source": [
    "data = [64630, 11735, 14216, 99233, 14470, 4978, 73429, 38120, 51135, 67060]\n",
    "\n",
    "import numpy as np\n",
    "from statistics import mode\n",
    "mu_value = np.mean(data)\n",
    "median_value = np.median(data)\n",
    "mode_value = mode(data)\n",
    "std_value = np.std(data)\n",
    "# Confidence Interval for the mean\n",
    "z_score = 1.96\n",
    "\n",
    "lower_bound = mu_value - z_score * std_value\n",
    "upper_bound = mu_value + z_score * std_value\n",
    "\n",
    "print(round(mu_value,1))\n",
    "print(round(median_value,1))\n",
    "print(round(mode_value,1))\n",
    "print(round(std_value,1))\n",
    "\n",
    "print(f\"{round(lower_bound,1)} {round(upper_bound,1)}\")"
   ]
  },
  {
   "cell_type": "code",
   "execution_count": 15,
   "metadata": {},
   "outputs": [
    {
     "data": {
      "text/plain": [
       "4978"
      ]
     },
     "execution_count": 15,
     "metadata": {},
     "output_type": "execute_result"
    }
   ],
   "source": [
    "from scipy.stats import mode\n",
    "mode_res = mode(data)\n",
    "if mode_res.count == 1:\n",
    "    mode_value = mode_res.mode\n",
    "mode_value"
   ]
  },
  {
   "cell_type": "code",
   "execution_count": 14,
   "metadata": {},
   "outputs": [
    {
     "data": {
      "text/plain": [
       "ModeResult(mode=4978, count=1)"
      ]
     },
     "execution_count": 14,
     "metadata": {},
     "output_type": "execute_result"
    }
   ],
   "source": [
    "mode_res"
   ]
  },
  {
   "cell_type": "code",
   "execution_count": 17,
   "metadata": {},
   "outputs": [
    {
     "data": {
      "text/plain": [
       "[15, 12, 8, 8, 7, 7, 7, 6, 5, 3]"
      ]
     },
     "execution_count": 17,
     "metadata": {},
     "output_type": "execute_result"
    }
   ],
   "source": [
    "from sklearn.linear_model import LinearRegression\n",
    "\n",
    "x = [15,  12,  8 ,  8,  7 ,  7 ,  7,  6,   5,   3]\n",
    "y = [10 , 25 , 17 , 11 , 13 , 17 , 20 , 13,  9 ,  15]\n"
   ]
  },
  {
   "cell_type": "code",
   "execution_count": null,
   "metadata": {},
   "outputs": [],
   "source": []
  }
 ],
 "metadata": {
  "kernelspec": {
   "display_name": ".venv",
   "language": "python",
   "name": "python3"
  },
  "language_info": {
   "codemirror_mode": {
    "name": "ipython",
    "version": 3
   },
   "file_extension": ".py",
   "mimetype": "text/x-python",
   "name": "python",
   "nbconvert_exporter": "python",
   "pygments_lexer": "ipython3",
   "version": "3.10.5"
  }
 },
 "nbformat": 4,
 "nbformat_minor": 2
}
