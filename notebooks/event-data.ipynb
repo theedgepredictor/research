{
 "cells": [
  {
   "cell_type": "markdown",
   "metadata": {},
   "source": [
    "# Event Info\n",
    "\n",
    "Data pump for scoreboard API from ESPN API\n",
    "\n",
    "Blocked by espn-api-orm project.\n",
    "\n",
    "Build a scheduled pump for collecting and storing scoreboard payloads from the espn api. The API is fast and returns data quickly but is not well documented and fails to have a large collection method (that I know of). \n",
    "Most of our other services end up having to call the api day-by-day to make sure that we get all of the events. This service proposes collecting the event data in a normalized format for all sports (The ESPN API already does a great job of this)\n",
    "we are just going to wrap the api call into a typed class in the espn-api-orm, make scheduled calls to that ORM and store the responses from that endpoint here.\n",
    "\n",
    "**down stream services**\n",
    "- espn-api-orm\n",
    "\n",
    "**upstream services**\n",
    "- elo-rating\n",
    "- college-basketball-featurestore\n",
    "\n",
    "POC:\n",
    "- espn-api-orm.scoreboard -> event-data\n",
    "\n"
   ]
  }
 ],
 "metadata": {
  "language_info": {
   "name": "python"
  }
 },
 "nbformat": 4,
 "nbformat_minor": 2
}
